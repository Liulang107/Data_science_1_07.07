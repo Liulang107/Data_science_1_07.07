{
 "cells": [
  {
   "cell_type": "code",
   "execution_count": 63,
   "metadata": {},
   "outputs": [],
   "source": [
    "import pandas as pd"
   ]
  },
  {
   "cell_type": "code",
   "execution_count": 64,
   "metadata": {},
   "outputs": [],
   "source": [
    "years = range(1880,2019)\n",
    "columns = ['name','sex','number']\n",
    "df_names = pd.DataFrame()\n",
    "\n",
    "for year in years:\n",
    "    path = '/Users/Maria/Downloads/names/yob%d.txt' % year\n",
    "    df = pd.read_csv(path, names=columns)\n",
    "    df['year'] = year\n",
    "    df_names = df_names.append(df, ignore_index=True)"
   ]
  },
  {
   "cell_type": "code",
   "execution_count": 65,
   "metadata": {},
   "outputs": [],
   "source": [
    "def count_top3(years):\n",
    "    df_names_to_result = pd.DataFrame()\n",
    "    df_names_to_result = df_names.loc[df_names['year'].isin(years)]\n",
    "    df_names_to_result = df_names_to_result.groupby(['name', 'year']).sum()\n",
    "    df_names_to_result = df_names_to_result.sort_values('number', ascending=False).head(3)\n",
    "    df_names_to_result = df_names_to_result.reset_index(drop=False)\n",
    "    names_list = list(df_names_to_result['name'])\n",
    "    print(names_list)"
   ]
  },
  {
   "cell_type": "code",
   "execution_count": 66,
   "metadata": {
    "scrolled": true
   },
   "outputs": [
    {
     "name": "stdout",
     "output_type": "stream",
     "text": [
      "['John', 'William', 'Mary']\n",
      "['James', 'Robert', 'Linda']\n"
     ]
    }
   ],
   "source": [
    "count_top3([1880])\n",
    "count_top3([1900, 1950, 2000])"
   ]
  },
  {
   "cell_type": "code",
   "execution_count": 67,
   "metadata": {},
   "outputs": [],
   "source": [
    "def count_dynamics(years):\n",
    "    names_dynamics = df_names.loc[df_names['year'].isin(years)]\n",
    "    names_dynamics = names_dynamics.groupby(['year', 'sex']).size()\n",
    "    names_dynamics = names_dynamics.unstack('sex')\n",
    "    print(names_dynamics.to_dict('list'))"
   ]
  },
  {
   "cell_type": "code",
   "execution_count": 68,
   "metadata": {},
   "outputs": [
    {
     "name": "stdout",
     "output_type": "stream",
     "text": [
      "{'F': [2224, 6111, 17655], 'M': [1506, 4192, 12117]}\n"
     ]
    }
   ],
   "source": [
    "count_dynamics([1900, 1950, 2000])"
   ]
  },
  {
   "cell_type": "code",
   "execution_count": null,
   "metadata": {},
   "outputs": [],
   "source": []
  }
 ],
 "metadata": {
  "kernelspec": {
   "display_name": "Python 3",
   "language": "python",
   "name": "python3"
  },
  "language_info": {
   "codemirror_mode": {
    "name": "ipython",
    "version": 3
   },
   "file_extension": ".py",
   "mimetype": "text/x-python",
   "name": "python",
   "nbconvert_exporter": "python",
   "pygments_lexer": "ipython3",
   "version": "3.7.3"
  }
 },
 "nbformat": 4,
 "nbformat_minor": 2
}
