{
 "cells": [
  {
   "cell_type": "code",
   "execution_count": 1,
   "metadata": {},
   "outputs": [],
   "source": [
    "import pandas as pd"
   ]
  },
  {
   "cell_type": "code",
   "execution_count": 2,
   "metadata": {},
   "outputs": [],
   "source": [
    "years = range(1880,2019)\n",
    "columns = ['name','sex','number']\n",
    "names = pd.DataFrame()\n",
    "\n",
    "for year in years:\n",
    "    path = '/Users/Maria/Downloads/names/yob%d.txt' % year\n",
    "    df = pd.read_csv(path, names=columns)\n",
    "    df['year'] = year\n",
    "    names = names.append(df, ignore_index=True)"
   ]
  },
  {
   "cell_type": "code",
   "execution_count": 3,
   "metadata": {},
   "outputs": [],
   "source": [
    "def count_top3(years):\n",
    "    names_to_result = pd.DataFrame()\n",
    "    names_to_result = names.loc[names['year'].isin(years)]\n",
    "    names_to_result = names_to_result.groupby(['name', 'year']).sum()\n",
    "    names_to_result = names_to_result.sort_values('number', ascending=False).head(3)\n",
    "    names_to_result = names_to_result.reset_index()\n",
    "    names_list = list(names_to_result['name'])\n",
    "    print(names_list)"
   ]
  },
  {
   "cell_type": "code",
   "execution_count": 4,
   "metadata": {
    "scrolled": true
   },
   "outputs": [
    {
     "name": "stdout",
     "output_type": "stream",
     "text": [
      "['John', 'William', 'Mary']\n",
      "['James', 'Robert', 'Linda']\n"
     ]
    }
   ],
   "source": [
    "count_top3([1880])\n",
    "count_top3([1900, 1950, 2000])"
   ]
  },
  {
   "cell_type": "code",
   "execution_count": 5,
   "metadata": {},
   "outputs": [],
   "source": [
    "def count_dynamics(years):\n",
    "    names_dynamics = names.loc[names['year'].isin(years)]\n",
    "    names_dynamics = names_dynamics.groupby(['year', 'sex']).sum()\n",
    "    names_dynamics = names_dynamics.unstack('sex')\n",
    "    names_dynamics.columns = names_dynamics.columns.droplevel(-2)\n",
    "    print(names_dynamics.to_dict('list'))"
   ]
  },
  {
   "cell_type": "code",
   "execution_count": 6,
   "metadata": {},
   "outputs": [
    {
     "name": "stdout",
     "output_type": "stream",
     "text": [
      "{'F': [299798, 1713065, 1815295], 'M': [150480, 1790437, 1963202]}\n"
     ]
    }
   ],
   "source": [
    "count_dynamics([1900, 1950, 2000])"
   ]
  },
  {
   "cell_type": "code",
   "execution_count": null,
   "metadata": {},
   "outputs": [],
   "source": []
  },
  {
   "cell_type": "code",
   "execution_count": null,
   "metadata": {},
   "outputs": [],
   "source": []
  }
 ],
 "metadata": {
  "kernelspec": {
   "display_name": "Python 3",
   "language": "python",
   "name": "python3"
  },
  "language_info": {
   "codemirror_mode": {
    "name": "ipython",
    "version": 3
   },
   "file_extension": ".py",
   "mimetype": "text/x-python",
   "name": "python",
   "nbconvert_exporter": "python",
   "pygments_lexer": "ipython3",
   "version": "3.7.3"
  }
 },
 "nbformat": 4,
 "nbformat_minor": 2
}
